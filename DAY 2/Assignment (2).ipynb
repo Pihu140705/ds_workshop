{
  "nbformat": 4,
  "nbformat_minor": 0,
  "metadata": {
    "colab": {
      "provenance": []
    },
    "kernelspec": {
      "name": "python3",
      "display_name": "Python 3"
    },
    "language_info": {
      "name": "python"
    }
  },
  "cells": [
    {
      "cell_type": "code",
      "execution_count": 2,
      "metadata": {
        "id": "HDkSxkmSUHRT",
        "colab": {
          "base_uri": "https://localhost:8080/"
        },
        "outputId": "e4966fcb-fc8a-427d-b69d-834c02b9a83a"
      },
      "outputs": [
        {
          "output_type": "stream",
          "name": "stdout",
          "text": [
            "[4, 6, 8, 10]\n"
          ]
        }
      ],
      "source": [
        "\n",
        "#add this two list elementwise\n",
        "l1 = [1, 2, 3, 4]\n",
        "l2 = [3, 4, 5, 6]\n",
        "\n",
        "result = [x + y for x, y in zip(l1, l2)]\n",
        "print(result)"
      ]
    },
    {
      "cell_type": "code",
      "source": [
        "#Find maximum element combining two list l1 and l2"
      ],
      "metadata": {
        "id": "DyEJ56p-US2T"
      },
      "execution_count": null,
      "outputs": []
    },
    {
      "cell_type": "code",
      "source": [
        "#find common elemnts from list l1 and l2"
      ],
      "metadata": {
        "id": "DJ-yEKuhUzHa"
      },
      "execution_count": null,
      "outputs": []
    },
    {
      "cell_type": "code",
      "source": [
        "d1 = {'a': 1, 'b': 2, 'c': 3, 'd': 4}\n",
        "d2 = {'a': 7, 'f': 2, 'g': 55, 'h': \"101\"}\n",
        "\n",
        "#find common key from d1 and d2\n",
        "#find common value from d1 and d2"
      ],
      "metadata": {
        "id": "R9O5Y42CVIt6"
      },
      "execution_count": null,
      "outputs": []
    },
    {
      "cell_type": "code",
      "source": [
        "#replace the values of d1 to their negative value"
      ],
      "metadata": {
        "id": "F7fLH0gvVnCL"
      },
      "execution_count": null,
      "outputs": []
    },
    {
      "cell_type": "code",
      "source": [
        "#replace key to value and value to key in d2"
      ],
      "metadata": {
        "id": "BAr0i9uHWAKq"
      },
      "execution_count": null,
      "outputs": []
    }
  ]
}